{
 "cells": [
  {
   "cell_type": "markdown",
   "metadata": {},
   "source": [
    "输入两个单调递增的链表，输出两个链表合成后的链表，当然我们需要合成后的链表满足单调不减规则。"
   ]
  },
  {
   "cell_type": "code",
   "execution_count": null,
   "metadata": {},
   "outputs": [],
   "source": [
    "# 对比插入新链表\n",
    "# -*- coding:utf-8 -*-\n",
    "class ListNode:\n",
    "    def __init__(self, x):\n",
    "        self.val = x\n",
    "        self.next = None\n",
    "        \n",
    "        \n",
    "class Solution:\n",
    "    # 返回合并后列表\n",
    "    def Merge(self, pHead1, pHead2):\n",
    "        # write code here\n",
    "        pHead = new = ListNode(None)\n",
    "        while pHead1 and pHead2:\n",
    "            if pHead1.val > pHead2.val:\n",
    "                new.next = pHead2\n",
    "                pHead2 = pHead2.next\n",
    "            else:\n",
    "                new.next = pHead1\n",
    "                pHead1 = pHead1.next\n",
    "            new = new.next\n",
    "        new.next = pHead1 or pHead2\n",
    "        return pHead"
   ]
  },
  {
   "cell_type": "code",
   "execution_count": null,
   "metadata": {},
   "outputs": [],
   "source": [
    "# 对比插入到 链表1 递归\n",
    "# -*- coding:utf-8 -*-\n",
    "class ListNode:\n",
    "    def __init__(self, x):\n",
    "        self.val = x\n",
    "        self.next = None\n",
    "        \n",
    "        \n",
    "class Solution:\n",
    "    # 返回合并后列表\n",
    "    def Merge(self, pHead1, pHead2):\n",
    "        # write code here\n",
    "        if pHead1 and pHead2:\n",
    "            if pHead1.val > pHead2.val:\n",
    "                pHead1, pHead2 = pHead2, pHead1\n",
    "            pHead1.next = self.Merge(pHead1.next, pHead2)\n",
    "        return pHead1 or pHead2\n"
   ]
  },
  {
   "cell_type": "code",
   "execution_count": 2,
   "metadata": {},
   "outputs": [],
   "source": [
    "class Solution:\n",
    "    # 返回合并后列表\n",
    "    def Merge(self, pHead1, pHead2):\n",
    "        # write code here\n",
    "        if not pHead1 or not pHead2:\n",
    "            return pHead1 or pHead2\n",
    "        while pHead1 and pHead2:\n",
    "            if pHead1.val<pHead2.val:\n",
    "                pHead1.next = self.Merge(pHead1.next, pHead2)\n",
    "                return pHead1\n",
    "            else:\n",
    "                pHead2.next = self.Merge(pHead1, pHead2.next)\n",
    "                return pHead2"
   ]
  }
 ],
 "metadata": {
  "kernelspec": {
   "display_name": "Python 3",
   "language": "python",
   "name": "python3"
  },
  "language_info": {
   "codemirror_mode": {
    "name": "ipython",
    "version": 3
   },
   "file_extension": ".py",
   "mimetype": "text/x-python",
   "name": "python",
   "nbconvert_exporter": "python",
   "pygments_lexer": "ipython3",
   "version": "3.7.6"
  }
 },
 "nbformat": 4,
 "nbformat_minor": 4
}
