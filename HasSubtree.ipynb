{
 "cells": [
  {
   "cell_type": "markdown",
   "metadata": {},
   "source": [
    "输入两棵二叉树A，B，判断B是不是A的子结构。（ps：我们约定空树不是任意一个树的子结构）\n",
    "B是A的子结构， 即 A中有出现和B相同的结构和节点值。"
   ]
  },
  {
   "cell_type": "markdown",
   "metadata": {},
   "source": [
    "# 子树\n",
    "一棵大树 A，一棵小树 B，若 B 是 A 的子树，则：\n",
    "1. B 和 A 的结点值完全相同，它们俩的左子树、右子树所有结点的值也完全相同\n",
    "2. 或者 B 的左孩子和 A 的结点值完全相同，它们俩的左子树、右子树所有结点的值也完全相同\n",
    "3. 或者 B 的右孩子和 A 的结点值完全相同，它们俩的左子树、右子树所有结点的值也完全相同\n",
    "# 子结构\n",
    "子结构可以是A树的任意一部分\n"
   ]
  },
  {
   "cell_type": "markdown",
   "metadata": {},
   "source": [
    "# 分析\n",
    "1. A和B的根相等，判断A和B的左右子树是否相等\n",
    "2. B在A的左子树中\n",
    "3. B在A的右子树中\n",
    "最终判断A=B"
   ]
  },
  {
   "cell_type": "code",
   "execution_count": null,
   "metadata": {},
   "outputs": [],
   "source": [
    "# -*- coding:utf-8 -*-\n",
    "class TreeNode:\n",
    "    def __init__(self, x):\n",
    "        self.val = x\n",
    "        self.left = None\n",
    "        self.right = None\n",
    "        \n",
    "        \n",
    "class Solution:\n",
    "    def HasSubtree(self, pRoot1, pRoot2):\n",
    "         # write code here\n",
    "        if not pRoot1 or not pRoot2:\n",
    "            return False\n",
    "        else:\n",
    "            return self.is_SameTree(pRoot1,pRoot2) or self.HasSubtree(pRoot1.left,pRoot2) or self.HasSubtree(pRoot1.right,pRoot2)\n",
    "    def is_SameTree(self,pRoot1,pRoot2):\n",
    "        if not pRoot2:\n",
    "            return True\n",
    "        elif not pRoot1 or pRoot1.val!=pRoot2.val:\n",
    "            return False\n",
    "        return self.is_SameTree(pRoot1.left,pRoot2.left) and self.is_SameTree(pRoot1.right,pRoot2.right)\n"
   ]
  }
 ],
 "metadata": {
  "kernelspec": {
   "display_name": "Python 3",
   "language": "python",
   "name": "python3"
  },
  "language_info": {
   "codemirror_mode": {
    "name": "ipython",
    "version": 3
   },
   "file_extension": ".py",
   "mimetype": "text/x-python",
   "name": "python",
   "nbconvert_exporter": "python",
   "pygments_lexer": "ipython3",
   "version": "3.7.6"
  }
 },
 "nbformat": 4,
 "nbformat_minor": 4
}
