{
 "cells": [
  {
   "cell_type": "markdown",
   "metadata": {},
   "source": [
    "一只青蛙一次可以跳上1级台阶，也可以跳上2级……它也可以跳上n级。求该青蛙跳上一个n级的台阶总共有多少种跳法。"
   ]
  },
  {
   "cell_type": "markdown",
   "metadata": {},
   "source": [
    "# 贪心算法\n",
    "贪心算法的基本思路是从问题的某一个初始解出发一步一步地进行，根据某个优化测度，每一步都要确保能获得局部最优解。每一步只考虑一个数据，他的选取应该满足局部优化的条件。若下一个数据和部分最优解连在一起不再是可行解时，就不把该数据添加到部分解中，直到把所有数据枚举完，或者不能再添加算法停止。\n",
    "## 过程\n",
    "1. 建立数学模型来描述问题；\n",
    "2. 把求解的问题分成若干个子问题；\n",
    "3. 对每一子问题求解，得到子问题的局部最优解；\n",
    "4. 把子问题的解局部最优解合成原来解问题的一个解。"
   ]
  },
  {
   "cell_type": "markdown",
   "metadata": {},
   "source": [
    "## 分析\n",
    "设nn 级台阶有f(n)f(n) 种跳法，根据最后一次跳台阶的数目可以分解为最后一次一级，则前面需要跳n-1n−1 级，有f(n-1)f(n−1) 种跳法；最后一次跳两级，则前面需要跳n- 2n−2 级，有f(n-2)f(n−2) 种跳法。以此类推 易知，\n",
    "$f(n)=f(n-1)+f(n-2)+……f(0)\\\\ f(n-1)=f(n-2)+……f(0)f(n)=f(n−1)+f(n−2)+……f(0)\n",
    "f(n−1)=f(n−2)+……f(0)$\n",
    "两式相减得，$f(n)=2f(n-1)f(n)=2f(n−1)$\n",
    "\n",
    "简单思路：每个台阶都有跳与不跳两种情况（除了最后一个台阶），最后一个台阶必须跳。所以共用2^(n-1)中情况"
   ]
  },
  {
   "cell_type": "code",
   "execution_count": 5,
   "metadata": {},
   "outputs": [
    {
     "ename": "IndentationError",
     "evalue": "expected an indented block (<ipython-input-5-7f163321ac5f>, line 7)",
     "output_type": "error",
     "traceback": [
      "\u001b[1;36m  File \u001b[1;32m\"<ipython-input-5-7f163321ac5f>\"\u001b[1;36m, line \u001b[1;32m7\u001b[0m\n\u001b[1;33m    while number > 1:\u001b[0m\n\u001b[1;37m        ^\u001b[0m\n\u001b[1;31mIndentationError\u001b[0m\u001b[1;31m:\u001b[0m expected an indented block\n"
     ]
    }
   ],
   "source": [
    "# -*- coding:utf-8 -*-\n",
    "class Solution:\n",
    "    def jumpFloorII(self, number):\n",
    "        # write code here\n",
    "        n = 1\n",
    "        if number == 0:\n",
    "            return 0\n",
    "        while number > 1:\n",
    "            n = 2*n\n",
    "            number -= 1\n",
    "        return n\n",
    "\n",
    "res = Solution()\n",
    "res.jumpFloorII(1)\n",
    "        "
   ]
  },
  {
   "cell_type": "code",
   "execution_count": null,
   "metadata": {},
   "outputs": [],
   "source": []
  }
 ],
 "metadata": {
  "kernelspec": {
   "display_name": "Python 3",
   "language": "python",
   "name": "python3"
  },
  "language_info": {
   "codemirror_mode": {
    "name": "ipython",
    "version": 3
   },
   "file_extension": ".py",
   "mimetype": "text/x-python",
   "name": "python",
   "nbconvert_exporter": "python",
   "pygments_lexer": "ipython3",
   "version": "3.7.6"
  }
 },
 "nbformat": 4,
 "nbformat_minor": 4
}
