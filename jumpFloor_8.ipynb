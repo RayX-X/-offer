{
 "cells": [
  {
   "cell_type": "markdown",
   "metadata": {},
   "source": [
    "# 跳台阶\n",
    "一只青蛙一次可以跳上1级台阶，也可以跳上2级。求该青蛙跳上一个n级的台阶总共有多少种跳法（先后次序不同算不同的结果）。"
   ]
  },
  {
   "cell_type": "markdown",
   "metadata": {},
   "source": [
    "# 动态规划\n",
    "1、 跳上一级台阶 只有1 种跳法\n",
    "2、跳上二级台阶 有2种跳法\n",
    "3、 三级 3 种\n",
    "4、 四级 5 种\n",
    "5、 n 级 f(n-1)+f(n-2) → 状态转移方程 F(N) = F(n-1) + F(n-2)"
   ]
  },
  {
   "cell_type": "code",
   "execution_count": 2,
   "metadata": {},
   "outputs": [
    {
     "data": {
      "text/plain": [
       "8"
      ]
     },
     "execution_count": 2,
     "metadata": {},
     "output_type": "execute_result"
    }
   ],
   "source": [
    "# 递归 o(2^N)\n",
    "# -*- coding:utf-8 -*-\n",
    "class Solution:\n",
    "    def jumpFloor(self, number):\n",
    "        # write code hereSA\n",
    "        if number == 1:\n",
    "            return 1\n",
    "        elif number == 2:\n",
    "            return 2\n",
    "        else:\n",
    "            return self.jumpFloor(number-1)+self.jumpFloor(number-2)\n",
    "\n",
    "res = Solution()\n",
    "res.jumpFloor(5)"
   ]
  },
  {
   "cell_type": "code",
   "execution_count": 5,
   "metadata": {},
   "outputs": [
    {
     "data": {
      "text/plain": [
       "8"
      ]
     },
     "execution_count": 5,
     "metadata": {},
     "output_type": "execute_result"
    }
   ],
   "source": [
    "# 动态规划 状态转移方程为 F(N) = F(n-1) + F(n-2)\n",
    "# number 有几种跳法只与 n-1 n-2 跳了几次有关\n",
    "# -*- coding:utf-8 -*-\n",
    "class Solution:\n",
    "    def jumpFloor(self, number):\n",
    "        # write code hereSA\n",
    "        a, b = 1, 2\n",
    "        while number > 1:\n",
    "            a, b = b, a+b\n",
    "            number -= 1\n",
    "        return a\n",
    "    \n",
    "res = Solution()\n",
    "res.jumpFloor(5)"
   ]
  },
  {
   "cell_type": "code",
   "execution_count": null,
   "metadata": {},
   "outputs": [],
   "source": []
  }
 ],
 "metadata": {
  "kernelspec": {
   "display_name": "Python 3",
   "language": "python",
   "name": "python3"
  },
  "language_info": {
   "codemirror_mode": {
    "name": "ipython",
    "version": 3
   },
   "file_extension": ".py",
   "mimetype": "text/x-python",
   "name": "python",
   "nbconvert_exporter": "python",
   "pygments_lexer": "ipython3",
   "version": "3.7.6"
  }
 },
 "nbformat": 4,
 "nbformat_minor": 4
}
