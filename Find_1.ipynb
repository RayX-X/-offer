{
 "cells": [
  {
   "cell_type": "markdown",
   "metadata": {},
   "source": [
    "# 二维数组中的查找\n",
    "1. 在一个二维数组中（每个一维数组的长度相同），每一行都按照从左到右递增的顺序排序，每一列都按照从上到下递增的顺序排序。请完成一个函数，输入这样的一个二维数组和一个整数，判断数组中是否含有该整数。"
   ]
  },
  {
   "cell_type": "markdown",
   "metadata": {},
   "source": [
    "暴力查找 遍历数组 m*n \n",
    "\n",
    "时间复杂度 O(m*n) \n",
    "\n",
    "空间复杂度 O(1)"
   ]
  },
  {
   "cell_type": "code",
   "execution_count": 32,
   "metadata": {},
   "outputs": [],
   "source": [
    "target = 1\n",
    "array = [[1,2,8,9],[2,4,9,12],[4,7,10,13],[6,8,11,15]]"
   ]
  },
  {
   "cell_type": "code",
   "execution_count": null,
   "metadata": {},
   "outputs": [],
   "source": [
    "class Solution:\n",
    "    # array 二维列表\n",
    "    def ergodic(self, target, array):\n",
    "        # write code here\n",
    "        for i in range(len(array)):\n",
    "            if target in array[i]:\n",
    "                return True\n",
    "        return False\n",
    "\n",
    "    def ergodicTo(self, target, array):\n",
    "        # write code here\n",
    "        for w in array:\n",
    "            if target in w:\n",
    "                return True\n",
    "        return False"
   ]
  },
  {
   "cell_type": "raw",
   "metadata": {},
   "source": [
    "# 按数组从左到右，从上到下递增考虑。\n",
    "# 从左下角找，左下角 < target 右移， > target 上移\n",
    "# 从右上角找，右上角 < target 下移, > target 左移"
   ]
  },
  {
   "cell_type": "code",
   "execution_count": null,
   "metadata": {},
   "outputs": [],
   "source": [
    "class Solution:\n",
    "    rows = len(array) - 1\n",
    "    cols = len(array[0]) - 1\n",
    "    # 左下角\n",
    "    def left(self, target, array):\n",
    "        # write code here\n",
    "        i = rows\n",
    "        j = 0\n",
    "        while j<=cols and i>=0:  # 边界\n",
    "            if array[i][j]<target:  # 右移\n",
    "                j += 1  \n",
    "            elif array[i][j]>target:  # 上移\n",
    "                i -= 1\n",
    "            else：\n",
    "                return True\n",
    "        return False\n",
    "    # 右下角\n",
    "    def right(self, target, array):\n",
    "        i = 0\n",
    "        j = cols\n",
    "        while i<rows and j>=0:  # 边界\n",
    "            if array[i][j]<target;  # 下移\n",
    "                i += 1\n",
    "            elif array[i][j]>target:  # 左移\n",
    "                j -= 1\n",
    "            else:\n",
    "                return True\n",
    "        return False"
   ]
  },
  {
   "cell_type": "code",
   "execution_count": 37,
   "metadata": {},
   "outputs": [],
   "source": [
    "class Solution:\n",
    "    # array 二维列表\n",
    "    def Find(self, target, array):\n",
    "        m = len(array)-1\n",
    "        n = len(array[0])-1\n",
    "        flage = False\n",
    "        x,y  = m, 0\n",
    "        while x >= 0 and y < n:\n",
    "            print(x,y)\n",
    "            if target == array[x][y]:\n",
    "                flage = True\n",
    "                break\n",
    "            elif target < array[x][y]:\n",
    "                x -= 1\n",
    "            elif target > array[x][y]:\n",
    "                y += 1\n",
    "            else:\n",
    "                break\n",
    "        return flage"
   ]
  },
  {
   "cell_type": "code",
   "execution_count": 39,
   "metadata": {},
   "outputs": [],
   "source": [
    "while True:\n",
    "    try:\n",
    "        S=Solution()\n",
    "        # 字符串转为list\n",
    "        L=list(eval(raw_input()))\n",
    "        array=L[1]\n",
    "        target=L[0]\n",
    "        print(S.Find(target, array))\n",
    "    except:\n",
    "        break"
   ]
  },
  {
   "cell_type": "code",
   "execution_count": null,
   "metadata": {},
   "outputs": [],
   "source": []
  }
 ],
 "metadata": {
  "kernelspec": {
   "display_name": "Python 3",
   "language": "python",
   "name": "python3"
  },
  "language_info": {
   "codemirror_mode": {
    "name": "ipython",
    "version": 3
   },
   "file_extension": ".py",
   "mimetype": "text/x-python",
   "name": "python",
   "nbconvert_exporter": "python",
   "pygments_lexer": "ipython3",
   "version": "3.7.6"
  }
 },
 "nbformat": 4,
 "nbformat_minor": 4
}
