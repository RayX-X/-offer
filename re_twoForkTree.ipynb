{
 "cells": [
  {
   "cell_type": "raw",
   "metadata": {},
   "source": [
    "输入某二叉树的前序遍历和中序遍历的结果，请重建出该二叉树。假设输入的前序遍历和中序遍历的结果中都不含重复的数字。例如输入前序遍历序列{1,2,4,7,3,5,6,8}和中序遍历序列{4,7,2,1,5,3,8,6}，则重建二叉树并返回。"
   ]
  },
  {
   "cell_type": "code",
   "execution_count": null,
   "metadata": {},
   "outputs": [],
   "source": [
    "# 二叉树遍历\n",
    "## 概念\n",
    "二叉树是一种非常重要的数据结构，非常多其他数据结构都是基于二叉树的基础演变而来的。对于二叉树，有深度遍历和广度遍历，深度遍历有前序、中序以及后序三种遍历方法，广度遍历即我们寻常所说的层次遍历。由于树的定义本身就是递归定义，因此採用递归的方法去实现树的三种遍历不仅easy理解并且代码非常简洁，而对于广度遍历来说，须要其他数据结构的支撑。所以。对于一段代码来说，可读性有时候要比代码本身的效率要重要的多。\n",
    "## 遍历思想\n",
    "前序遍历：根节点——左子树——右子树\n",
    "中序遍历：左子树——根节点——右子树\n",
    "后序遍历：左子树——右子树——根节点\n",
    "层次遍历：仅仅需按层次遍历\n",
    "![image.png](attachment:image.png)\n",
    "        1\n",
    "    2     3\n",
    "  4   5     6\n",
    "    7   8\n",
    "前序遍历：1 2 4 5 7 8 3 6（根左右）\n",
    "中序遍历：4 2 7 5 8 1 6 3（左根右）\n",
    "后序遍历：4 7 8 5 2 6 3 1（左右根）\n",
    "层次遍历：1 2 3 4 5 6 7 8 （按左右，上下顺序）"
   ]
  },
  {
   "cell_type": "code",
   "execution_count": null,
   "metadata": {},
   "outputs": [],
   "source": [
    "# 前+中\n",
    "# 由前序确定根节点\n",
    "# 用根结点在中序遍历中切开左右子树，递归重建二叉树"
   ]
  },
  {
   "cell_type": "code",
   "execution_count": 14,
   "metadata": {},
   "outputs": [],
   "source": [
    "# -*- coding:utf-8 -*-\n",
    "class TreeNode:\n",
    "    def __init__(self, x):\n",
    "        self.val = x\n",
    "        self.left = None\n",
    "        self.right = None\n",
    "        \n",
    "        \n",
    "class Solution:\n",
    "    # 返回构造的TreeNode根节点\n",
    "    def reConstructBinaryTree(self, pre, tin):\n",
    "        # write code here\n",
    "        if not pre:\n",
    "           return None\n",
    "        root=TreeNode(pre[0])\n",
    "        i = tin.index(pre[0])\n",
    "        # 递归\n",
    "        root.left = self.reConstructBinaryTree(pre[1:1 + i], tin[:i])\n",
    "        root.right = self.reConstructBinaryTree(pre[1 + i:], tin[1 + i:])\n",
    "        return root"
   ]
  },
  {
   "cell_type": "code",
   "execution_count": 15,
   "metadata": {},
   "outputs": [],
   "source": [
    "res = Solution()\n",
    "result = res.reConstructBinaryTree([1, 2, 4, 7, 3, 5, 6, 8], [4, 7, 2, 1, 5, 3, 8, 6])\n"
   ]
  }
 ],
 "metadata": {
  "kernelspec": {
   "display_name": "Python 3",
   "language": "python",
   "name": "python3"
  },
  "language_info": {
   "codemirror_mode": {
    "name": "ipython",
    "version": 3
   },
   "file_extension": ".py",
   "mimetype": "text/x-python",
   "name": "python",
   "nbconvert_exporter": "python",
   "pygments_lexer": "ipython3",
   "version": "3.7.6"
  }
 },
 "nbformat": 4,
 "nbformat_minor": 4
}
