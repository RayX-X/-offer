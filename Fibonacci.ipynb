{
 "cells": [
  {
   "cell_type": "markdown",
   "metadata": {},
   "source": [
    "大家都知道斐波那契数列，现在要求输入一个整数n，请你输出斐波那契数列的第n项（从0开始，第0项为0）。\n",
    "n<=39"
   ]
  },
  {
   "cell_type": "markdown",
   "metadata": {},
   "source": [
    "# 斐波那契数列\n",
    "又称黄金分割数列\n",
    "例如： 1,1,2,3,5,8,12,21,34,...\n",
    "递归表示：F(1)=1;F(2)=1,...,F(n)=F(n-1)+F(n-2);(n>=2,n∈N*)"
   ]
  },
  {
   "cell_type": "code",
   "execution_count": 2,
   "metadata": {},
   "outputs": [
    {
     "data": {
      "text/plain": [
       "1"
      ]
     },
     "execution_count": 2,
     "metadata": {},
     "output_type": "execute_result"
    }
   ],
   "source": [
    "# 递归表示 计算量过大\n",
    "def Fibonacci_recur(n):\n",
    "    if n <= 1:\n",
    "        return n\n",
    "    return Fibonacci_recur(n-1) + Fibonacci_recur(n-2)\n",
    "\n",
    "Fibonacci_recur(2)\n"
   ]
  },
  {
   "cell_type": "code",
   "execution_count": 39,
   "metadata": {},
   "outputs": [
    {
     "data": {
      "text/plain": [
       "5"
      ]
     },
     "execution_count": 39,
     "metadata": {},
     "output_type": "execute_result"
    }
   ],
   "source": [
    "# 递推表示\n",
    "def Fibonacci_loop(n):\n",
    "    a, b = 0, 1\n",
    "    if n == 0:\n",
    "        return 0\n",
    "    else:\n",
    "        for i in range(n):\n",
    "            a, b = b, a+b\n",
    "    return a\n",
    "Fibonacci_loop(5)"
   ]
  },
  {
   "cell_type": "code",
   "execution_count": 38,
   "metadata": {},
   "outputs": [
    {
     "data": {
      "text/plain": [
       "5"
      ]
     },
     "execution_count": 38,
     "metadata": {},
     "output_type": "execute_result"
    }
   ],
   "source": [
    "# 动态规划\n",
    "# n 的值只与前两次有关\n",
    "def Fibonacci_loop_while(n):\n",
    "    a, b = 0, 1\n",
    "    while n >0 :\n",
    "        a, b = b, a+b\n",
    "        n -= 1\n",
    "    return a\n",
    "Fibonacci_loop_while(5)"
   ]
  },
  {
   "cell_type": "code",
   "execution_count": null,
   "metadata": {},
   "outputs": [],
   "source": []
  }
 ],
 "metadata": {
  "kernelspec": {
   "display_name": "Python 3",
   "language": "python",
   "name": "python3"
  },
  "language_info": {
   "codemirror_mode": {
    "name": "ipython",
    "version": 3
   },
   "file_extension": ".py",
   "mimetype": "text/x-python",
   "name": "python",
   "nbconvert_exporter": "python",
   "pygments_lexer": "ipython3",
   "version": "3.7.6"
  }
 },
 "nbformat": 4,
 "nbformat_minor": 4
}
