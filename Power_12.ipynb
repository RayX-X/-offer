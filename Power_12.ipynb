{
 "cells": [
  {
   "cell_type": "markdown",
   "metadata": {},
   "source": [
    "# 数值的整数次方\n",
    "给定一个double类型的浮点数base和int类型的整数exponent。求base的exponent次方。\n",
    "保证base和exponent不同时为0\n",
    "\n",
    "## 分析\n",
    "### 1、使用内置函数\n",
    "### 2、暴力相乘，分几种情况考虑\n",
    "        a. b = 0 返回 0\n",
    "        b. e = 0 返回 1\n",
    "        c. e > 0；  b ≠ 0  返回 e 个 b 相乘 复杂度 o(n)\n",
    "        d. e < 0;   b ≠ 0  返回 e 个 1/b 相乘 复杂度 0(n)\n",
    "### 3.快速幂\n",
    "原理：例 a 的 b 次方\n",
    "        a. b 转换为 二进制数  \n",
    "        b. 令 该二进制数的第 i 位的权为 $2^{i-1}$  (从右往左)   \n",
    "        如：  $ a^{11} \\\\ bin(11) = 1011 \\\\ 11 = 2^3 * 1+ 2^2 * 0 + 2^1 * 1 +2^0 *1 \\\\a^11=a^{2^3+2^1+2^0}$\n",
    "                 \n",
    "                \n"
   ]
  },
  {
   "cell_type": "code",
   "execution_count": 4,
   "metadata": {},
   "outputs": [
    {
     "data": {
      "text/plain": [
       "0.25"
      ]
     },
     "execution_count": 4,
     "metadata": {},
     "output_type": "execute_result"
    }
   ],
   "source": [
    "#  内置函数\n",
    "class Solution:\n",
    "    def Power(self, base, exponent):\n",
    "        # write code here\n",
    "        return base**exponent\n",
    "res = Solution()\n",
    "res.Power(2.0, -2)"
   ]
  },
  {
   "cell_type": "code",
   "execution_count": 3,
   "metadata": {},
   "outputs": [
    {
     "data": {
      "text/plain": [
       "0.25"
      ]
     },
     "execution_count": 3,
     "metadata": {},
     "output_type": "execute_result"
    }
   ],
   "source": [
    "# 暴力解决 循环相乘\n",
    "class Solution:\n",
    "    def Power(self, base, exponent):\n",
    "        # write code here\n",
    "        if base == 0:\n",
    "            return 0\n",
    "        elif exponent == 0.0:\n",
    "            return 1\n",
    "        r = 1.0\n",
    "        if exponent < 0:\n",
    "            base = 1/base\n",
    "            exponent = -exponent\n",
    "        while exponent > 0:\n",
    "            r *= base\n",
    "            exponent -= 1        \n",
    "        return r\n",
    "res = Solution()\n",
    "res.Power(2.0, -2)"
   ]
  },
  {
   "cell_type": "code",
   "execution_count": null,
   "metadata": {},
   "outputs": [],
   "source": []
  }
 ],
 "metadata": {
  "kernelspec": {
   "display_name": "Python 3",
   "language": "python",
   "name": "python3"
  },
  "language_info": {
   "codemirror_mode": {
    "name": "ipython",
    "version": 3
   },
   "file_extension": ".py",
   "mimetype": "text/x-python",
   "name": "python",
   "nbconvert_exporter": "python",
   "pygments_lexer": "ipython3",
   "version": "3.7.6"
  }
 },
 "nbformat": 4,
 "nbformat_minor": 4
}
