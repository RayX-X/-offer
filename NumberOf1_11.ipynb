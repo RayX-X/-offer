{
 "cells": [
  {
   "cell_type": "markdown",
   "metadata": {},
   "source": [
    "# 二进制中1的个数\n",
    "输入一个整数，输出该数二进制表示中1的个数。其中负数用补码表示。"
   ]
  },
  {
   "cell_type": "markdown",
   "metadata": {},
   "source": [
    "# 二进制\n",
    "python中 负数需要 按位与 0xffffffff  才能变成补码形式\n",
    "bin(num) 转二进制"
   ]
  },
  {
   "cell_type": "code",
   "execution_count": 5,
   "metadata": {},
   "outputs": [
    {
     "name": "stdout",
     "output_type": "stream",
     "text": [
      "0b111100\n",
      "0b1101\n",
      "0b1100\n"
     ]
    }
   ],
   "source": [
    "a =60 & 13\n",
    "print(bin(60))\n",
    "print(bin(13))\n",
    "print(bin(a))"
   ]
  },
  {
   "cell_type": "code",
   "execution_count": 1,
   "metadata": {},
   "outputs": [
    {
     "data": {
      "text/plain": [
       "32"
      ]
     },
     "execution_count": 1,
     "metadata": {},
     "output_type": "execute_result"
    }
   ],
   "source": [
    "# 直接数 o(n)\n",
    "# -*- coding:utf-8 -*-\n",
    "class Solution:\n",
    "    def NumberOf1(self, n):\n",
    "        # write code here\n",
    "        if n < 0:\n",
    "            n = n & 0xffffffff\n",
    "        return bin(n).count('1')\n",
    "res = Solution()\n",
    "res.NumberOf1(-1)"
   ]
  },
  {
   "cell_type": "markdown",
   "metadata": {},
   "source": [
    "    一个二进制数1100，从右边数起第三位是处于最右边的一个1。\n",
    "    减去1后 1011，第三位变成0，它后面的两位0变成了1，而前面的1保持不变，\n",
    "    我们发现减1的结果是把最右边的一个1开始的所有位都取反了。\n",
    "    这个时候如果我们再把原来的整数和减去1之后的结果做 与运算，从原来整数最右边一个1那一位开始所有位都会变成0。如1100&1011=1000.\n",
    "    也就是说，把一个整数减去1，再和原整数做与运算，会把该整数最右边一个1变成0。\n",
    "    循环以上步骤直至 ==0，循环了几步就有几个 1\n",
    "    那么一个整数的二进制有多少个1，就可以进行多少次这样的操作。"
   ]
  },
  {
   "cell_type": "code",
   "execution_count": 2,
   "metadata": {},
   "outputs": [
    {
     "data": {
      "text/plain": [
       "32"
      ]
     },
     "execution_count": 2,
     "metadata": {},
     "output_type": "execute_result"
    }
   ],
   "source": [
    "# -*- coding:utf-8 -*-\n",
    "class Solution:\n",
    "    def NumberOf1(self, n):\n",
    "        # write code here\n",
    "        count = 0\n",
    "        if n < 0:\n",
    "            n = n & 0xffffffff\n",
    "        while n !=0:\n",
    "            n = n & (n-1)\n",
    "            count += 1\n",
    "        return count\n",
    "res = Solution()\n",
    "res.NumberOf1(-1)"
   ]
  },
  {
   "cell_type": "code",
   "execution_count": null,
   "metadata": {},
   "outputs": [],
   "source": []
  }
 ],
 "metadata": {
  "kernelspec": {
   "display_name": "Python 3",
   "language": "python",
   "name": "python3"
  },
  "language_info": {
   "codemirror_mode": {
    "name": "ipython",
    "version": 3
   },
   "file_extension": ".py",
   "mimetype": "text/x-python",
   "name": "python",
   "nbconvert_exporter": "python",
   "pygments_lexer": "ipython3",
   "version": "3.7.6"
  }
 },
 "nbformat": 4,
 "nbformat_minor": 4
}
