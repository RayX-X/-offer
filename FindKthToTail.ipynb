{
 "cells": [
  {
   "cell_type": "markdown",
   "metadata": {},
   "source": [
    "输入一个链表，输出该链表中倒数第k个结点。"
   ]
  },
  {
   "cell_type": "markdown",
   "metadata": {},
   "source": [
    "# 快慢双指针\n",
    "a 指针先走 K 步 b 开始和a 一起走 这时 a 和 b 永远相差 k 步\n",
    "当 a 到达时 b 就在倒数k的位置上"
   ]
  },
  {
   "cell_type": "code",
   "execution_count": 77,
   "metadata": {},
   "outputs": [
    {
     "name": "stdout",
     "output_type": "stream",
     "text": [
      "[2, 1]\n",
      "2\n"
     ]
    }
   ],
   "source": [
    "# -*- coding:utf-8 -*-\n",
    "class ListNode:\n",
    "    def __init__(self, x):\n",
    "        self.val = x\n",
    "        self.next = None\n",
    "\n",
    "class Solution:\n",
    "    def FindKthToTail(self, head, k):\n",
    "        # write code here\n",
    "        a, b = head, head\n",
    "        for i in range(k):\n",
    "            if not a:\n",
    "                return None\n",
    "            a = a.next\n",
    "        while a:\n",
    "            a = a.next\n",
    "            b = b.next\n",
    "        return b.val\n",
    "    \n",
    "    def printListFromTailToHead(self, listNode):\n",
    "        # write code here\n",
    "        array = []\n",
    "        while listNode:\n",
    "            array.append(listNode.val)\n",
    "            listNode = listNode.next\n",
    "        return array[::-1]\n",
    "    \n",
    "\n",
    "\n",
    "node = ListNode(1)\n",
    "node.next = ListNode(2)\n",
    "res = Solution()\n",
    "print(res.printListFromTailToHead(node))\n",
    "print(res.FindKthToTail(node, 1))\n",
    "\n"
   ]
  },
  {
   "cell_type": "code",
   "execution_count": null,
   "metadata": {},
   "outputs": [],
   "source": []
  },
  {
   "cell_type": "code",
   "execution_count": null,
   "metadata": {},
   "outputs": [],
   "source": []
  }
 ],
 "metadata": {
  "kernelspec": {
   "display_name": "Python 3",
   "language": "python",
   "name": "python3"
  },
  "language_info": {
   "codemirror_mode": {
    "name": "ipython",
    "version": 3
   },
   "file_extension": ".py",
   "mimetype": "text/x-python",
   "name": "python",
   "nbconvert_exporter": "python",
   "pygments_lexer": "ipython3",
   "version": "3.7.6"
  }
 },
 "nbformat": 4,
 "nbformat_minor": 4
}
