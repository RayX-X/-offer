{
 "cells": [
  {
   "cell_type": "markdown",
   "metadata": {},
   "source": [
    "用两个栈来实现一个队列，完成队列的Push和Pop操作。 队列中的元素为int类型。"
   ]
  },
  {
   "cell_type": "markdown",
   "metadata": {},
   "source": [
    "queue 队列\n",
    "作用 1：解耦，使程序实现松耦合（一个模块修改不会影响其他模块）\n",
    "     2：提高效率\n",
    "# 栈与队列的相同点\n",
    "1. 都是线性结构\n",
    "2. 插入操作都是限定在表尾进行\n",
    "3. 都可以通过顺序结构和链式结构实现\n",
    "4. 插入与删除的时间复杂度都是O(1), 在空间复杂度两者也一样\n",
    "5. 多链栈和多链队列的管理模式可以相同\n",
    "# 栈与队列的不同点\n",
    "1. 删除数据元素的位置不同，栈的删除操作早表尾进行，队列的删除操作在表头进行（栈先进后出，队列先进先出）\n",
    "2. 应用场景不同。\n",
    "  常见栈的应用场景包括括号问题的求解，表达式的转换和求值，函数调用和递归实现，深度有限搜索遍历等；\n",
    "  常见的队列的应用场景包括计算机系统中各种资源的管理，消息缓冲器的管理和广度优先搜索遍历。\n",
    "3. 顺序栈能够实现多栈空间共享，而顺序队列不能\n",
    "# 队列与列表的不同\n",
    "队列数是取出，列表数据是复制\n",
    "# 思路\n",
    "依据栈先进后出，队列先进先出\n",
    "例如，1.2.3入栈 出栈是 3.2.1； 1.2.3 入队列 出队列 1.2.3\n",
    "先入栈到stack1[1.2.3] 由stack1出栈到stack2[3,2,1] 在出栈就是[1,2,3]\n",
    "使用list 模拟"
   ]
  },
  {
   "cell_type": "code",
   "execution_count": 25,
   "metadata": {},
   "outputs": [],
   "source": [
    "# -*- coding:utf-8 -*-\n",
    "class Solution:\n",
    "    def __init__(self):\n",
    "        self.stack1 = []\n",
    "        self.stack2 = []\n",
    "    \n",
    "    \n",
    "    def push(self, node):\n",
    "        # write code here\n",
    "        self.stack1.append(node)  # 入栈\n",
    "        \n",
    "        \n",
    "    def pop(self):\n",
    "        # return xx\n",
    "        if self.stack2 == []:\n",
    "            while self.stack1 != []:\n",
    "                self.stack2.append(self.stack1[-1])\n",
    "                self.stack1.pop() # 出栈\n",
    "        return self.stack2.pop(-1)  # 出队列"
   ]
  },
  {
   "cell_type": "code",
   "execution_count": 28,
   "metadata": {},
   "outputs": [
    {
     "name": "stdout",
     "output_type": "stream",
     "text": [
      "1\n",
      "2\n",
      "3\n"
     ]
    }
   ],
   "source": [
    "test = Solution()\n",
    "test.push(1)\n",
    "test.push(2)\n",
    "test.push(3)\n",
    "print(test.pop())\n",
    "print(test.pop())\n",
    "print(test.pop())"
   ]
  }
 ],
 "metadata": {
  "kernelspec": {
   "display_name": "Python 3",
   "language": "python",
   "name": "python3"
  },
  "language_info": {
   "codemirror_mode": {
    "name": "ipython",
    "version": 3
   },
   "file_extension": ".py",
   "mimetype": "text/x-python",
   "name": "python",
   "nbconvert_exporter": "python",
   "pygments_lexer": "ipython3",
   "version": "3.7.6"
  }
 },
 "nbformat": 4,
 "nbformat_minor": 4
}
